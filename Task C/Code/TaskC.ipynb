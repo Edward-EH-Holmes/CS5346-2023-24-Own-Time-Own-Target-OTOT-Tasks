{
 "cells": [
  {
   "cell_type": "code",
   "execution_count": null,
   "metadata": {},
   "outputs": [],
   "source": [
    "# Importing all necessary libraries\n",
    "\n",
    "import numpy as np\n",
    "import pandas as pd \n",
    "import seaborn as sns\n",
    "import matplotlib.pyplot as plt"
   ]
  },
  {
   "cell_type": "code",
   "execution_count": null,
   "metadata": {},
   "outputs": [],
   "source": [
    "# Importing dataset\n",
    "\n",
    "df = pd.read_csv(\"./Data/Cleaned_dataset.csv\")"
   ]
  },
  {
   "cell_type": "markdown",
   "metadata": {},
   "source": [
    "Glimpse at the dataset"
   ]
  },
  {
   "cell_type": "code",
   "execution_count": null,
   "metadata": {},
   "outputs": [],
   "source": [
    "df.head()\n",
    "\n",
    "df.shape"
   ]
  },
  {
   "cell_type": "markdown",
   "metadata": {},
   "source": [
    "From the output above, the dataset is large.\n",
    "\n",
    "Lets look at the datatypes and do some further digging."
   ]
  },
  {
   "cell_type": "code",
   "execution_count": null,
   "metadata": {},
   "outputs": [],
   "source": [
    "df.info()\n",
    "\n",
    "df.describe()\n",
    "\n",
    "df.isnull().sum()"
   ]
  },
  {
   "cell_type": "markdown",
   "metadata": {},
   "source": [
    "There are no duplicates in the dataset. But I'm not sure."
   ]
  },
  {
   "cell_type": "code",
   "execution_count": null,
   "metadata": {},
   "outputs": [],
   "source": [
    "df.duplicated().sum()"
   ]
  },
  {
   "cell_type": "markdown",
   "metadata": {},
   "source": [
    "Dropping all the duplicates and keeping the last entry only. Duplicates are less than 2 percent of the whole dataset. "
   ]
  },
  {
   "cell_type": "code",
   "execution_count": null,
   "metadata": {},
   "outputs": [],
   "source": [
    "df.drop_duplicates(keep='last',ignore_index=True ,inplace=True)\n",
    "\n",
    "print(\"Airlines:\", end=\" \")\n",
    "print(df.Airline.unique(), \"\\n\")\n",
    "print(\"Seat Classes:\", end=\" \")\n",
    "print(df.Class.unique())\n",
    "print(\"Departure Airports:\",end=\" \")\n",
    "print(sorted(df.Source.unique()))\n",
    "print(\"Destination Airports:\",end=\" \")\n",
    "print(sorted(df.Destination.unique()))\n",
    "print(\"Total Stops:\", end=\" \")\n",
    "print(sorted(df[\"Total_stops\"].unique()))\n",
    "\n",
    "df.Class.value_counts()"
   ]
  },
  {
   "cell_type": "code",
   "execution_count": null,
   "metadata": {},
   "outputs": [],
   "source": [
    "df=df[df.Class!=\"First\"].reset_index()\n",
    "\n",
    "# Find the number of flights flying from and to each airport\n",
    "sns.set(style='darkgrid')\n",
    "fig,axs = plt.subplots(1,2, figsize=(20,10),sharey=True)\n",
    "sns.countplot(data=df,y=\"Source\",ax=axs[0])\n",
    "sns.countplot(data=df,y=\"Destination\",ax=axs[1])\n",
    "for ax in axs:\n",
    "    ax.set_xlabel('Number of Flight Tickets')\n",
    "axs[0].set_title(\"Number of Flights flying from\",size=15)\n",
    "axs[1].set_title(\"Number of Flights flying to\",size=15)\n",
    "plt.show()"
   ]
  },
  {
   "cell_type": "code",
   "execution_count": null,
   "metadata": {},
   "outputs": [],
   "source": [
    "plt.figure(figsize=(25,10))\n",
    "sns.countplot(x=df.Journey_day,hue=df.Class)\n",
    "plt.ylabel(\"Number of Flights\",size=15)\n",
    "plt.title(\"Number of flights per day by each category\",size=15)\n",
    "plt.show()"
   ]
  },
  {
   "cell_type": "code",
   "execution_count": null,
   "metadata": {},
   "outputs": [],
   "source": [
    "plt.figure(figsize=(20,10))\n",
    "sns.histplot(df.Fare,kde=True,bins=20)\n",
    "plt.title(\"Distribution of fares\",size=15)\n",
    "plt.show()"
   ]
  },
  {
   "cell_type": "code",
   "execution_count": null,
   "metadata": {},
   "outputs": [],
   "source": [
    "plt.figure(figsize=(20,10))\n",
    "sns.boxplot(x=df.Fare,y=df.Class)\n",
    "plt.title(\"Distribution of fares by each class\",size=15)\n",
    "plt.show()"
   ]
  },
  {
   "cell_type": "markdown",
   "metadata": {},
   "source": [
    "Find out average flight hours for each category"
   ]
  },
  {
   "cell_type": "code",
   "execution_count": null,
   "metadata": {},
   "outputs": [],
   "source": [
    "plt.figure(figsize=(20,10))\n",
    "sns.violinplot(data=df, y=\"Class\", x=\"Duration_in_hours\",inner=\"quartile\")\n",
    "plt.title(\"Distribution of Flight Duration by Class\",size=15)\n",
    "plt.show()"
   ]
  }
 ],
 "metadata": {
  "language_info": {
   "name": "python"
  }
 },
 "nbformat": 4,
 "nbformat_minor": 2
}
